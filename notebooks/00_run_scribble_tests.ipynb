{
 "cells": [
  {
   "cell_type": "code",
   "execution_count": 1,
   "metadata": {},
   "outputs": [
    {
     "name": "stderr",
     "output_type": "stream",
     "text": [
      "/home/rschwob/mambaforge/envs/dinov2_pip/lib/python3.9/site-packages/tqdm/auto.py:21: TqdmWarning: IProgress not found. Please update jupyter and ipywidgets. See https://ipywidgets.readthedocs.io/en/stable/user_install.html\n",
      "  from .autonotebook import tqdm as notebook_tqdm\n"
     ]
    }
   ],
   "source": [
    "import numpy as np\n",
    "import pandas as pd\n",
    "from PIL import Image\n",
    "from seghub import segbox\n",
    "\n",
    "from scribbles_testing import cellpose_data_handler\n",
    "from scribbles_testing.image_analysis_helpers import single_img_stats"
   ]
  },
  {
   "cell_type": "code",
   "execution_count": 2,
   "metadata": {},
   "outputs": [],
   "source": [
    "img_folder = \"/mnt/imaging.data/rschwob/cellpose_run07/\"\n",
    "output_folder = \"/mnt/imaging.data/rschwob/cellpose_run08/\"\n",
    "pred_seed = 123\n",
    "df_list = []"
   ]
  },
  {
   "cell_type": "code",
   "execution_count": 3,
   "metadata": {},
   "outputs": [
    {
     "name": "stdout",
     "output_type": "stream",
     "text": [
      "===== IMG 0 =====\n",
      "\n",
      "=== BIN 0.01 ===\n",
      "\n",
      "=== BIN 0.1 ===\n",
      "\n",
      "=== BIN 1 ===\n",
      "\n",
      "===== IMG 1 =====\n",
      "\n",
      "=== BIN 0.01 ===\n",
      "\n",
      "=== BIN 0.1 ===\n",
      "\n",
      "=== BIN 1 ===\n",
      "\n"
     ]
    }
   ],
   "source": [
    "for img_num in range(2):\n",
    "    print(f\"===== IMG {img_num} =====\\n\")\n",
    "    img_base = str(img_num).zfill(3)\n",
    "    img_path = img_folder + f\"{img_base}_img.png\"\n",
    "    img = np.array(Image.open(img_path))#[:,:,1] # NOTE: If we only want to use 1 channel, we can filter here\n",
    "    img = cellpose_data_handler.preprocess_img(img)\n",
    "    gt_path = img_folder + f\"{img_base}_ground_truth.png\"\n",
    "    ground_truth = np.array(Image.open(gt_path))\n",
    "    for bin in (0.01, 0.1, 1):\n",
    "        print(f\"=== BIN {bin} ===\\n\")\n",
    "        scribbles_suff = f\"all_{cellpose_data_handler.bin_for_file(bin)}_w1_run07\"\n",
    "        scribbles_path = img_folder + f\"{img_base}_scribbles_{scribbles_suff}.png\"\n",
    "        scribbles = np.array(Image.open(scribbles_path))\n",
    "        pred_path = output_folder + f\"{img_base}_channels_{scribbles_suff[:-1]+'8'}.png\"\n",
    "        sb = segbox.SegBox()\n",
    "        sb.set_options(img_as_feature=True)\n",
    "        sb.set_rf_settings(random_state=pred_seed)\n",
    "        pred = sb.rf_selfpredict(img, scribbles)\n",
    "        pred_image = Image.fromarray(pred)\n",
    "        # pred_image.save(pred_path)\n",
    "\n",
    "        class_1_pix_gt = np.sum(ground_truth == 1)\n",
    "        class_2_pix_gt = np.sum(ground_truth == 2)\n",
    "        max_class_pix_gt = max(class_1_pix_gt, class_2_pix_gt)\n",
    "        min_class_pix_gt = min(class_1_pix_gt, class_2_pix_gt)\n",
    "        pix_labelled = np.sum(scribbles>0)\n",
    "        class_1_pix_labelled = np.sum(scribbles == 1)\n",
    "        class_2_pix_labelled = np.sum(scribbles == 2)\n",
    "        max_pix_labelled = max(class_1_pix_labelled, class_2_pix_labelled)\n",
    "        min_pix_labelled = min(class_1_pix_labelled, class_2_pix_labelled)\n",
    "        pix_in_img = (scribbles.shape[0] * scribbles.shape[1])\n",
    "        perc_labelled = pix_labelled / pix_in_img * 100\n",
    "        acc, mPrec, mRecall, mIoU, mF1 = single_img_stats(pred, ground_truth)\n",
    "\n",
    "        res = pd.DataFrame({'img_num': img_num,\n",
    "                'prediction tag': \"channels\",\n",
    "                'prediction type': \"channels\",\n",
    "                'layers': None,\n",
    "                'scalings': None,\n",
    "                'scribbles mode': \"all\",\n",
    "                'scribbles bin': bin,\n",
    "                'suffix': \"run08\",\n",
    "                'class_1_pix_gt': class_1_pix_gt,\n",
    "                'class_2_pix_gt': class_2_pix_gt,\n",
    "                'min_class_pix_gt': min_class_pix_gt,\n",
    "                'max_class_pix_gt': max_class_pix_gt,\n",
    "                'pix_labelled': pix_labelled,\n",
    "                'class_1_pix_labelled': class_1_pix_labelled,\n",
    "                'class_2_pix_labelled': class_2_pix_labelled,\n",
    "                'min_class_pix_labelled': min_pix_labelled,\n",
    "                'max_class_pix_labelled': max_pix_labelled,\n",
    "                'pix_in_img': pix_in_img,\n",
    "                'perc. labelled': perc_labelled,\n",
    "                'accuracy': acc,\n",
    "                'mPrecision': mPrec,\n",
    "                'mRecall': mRecall,\n",
    "                'mIoU': mIoU,\n",
    "                'mF1': mF1,\n",
    "                'image': img_path,\n",
    "                'ground truth': gt_path,\n",
    "                'scribbles': scribbles_path,\n",
    "                'prediction': pred_path}, index=[0])\n",
    "        df_list.append(res)"
   ]
  },
  {
   "cell_type": "code",
   "execution_count": 4,
   "metadata": {},
   "outputs": [],
   "source": [
    "df = pd.concat(df_list, ignore_index=True)"
   ]
  },
  {
   "cell_type": "code",
   "execution_count": null,
   "metadata": {},
   "outputs": [],
   "source": [
    "df_path = \"/mnt/imaging.data/rschwob/scribbles_DFs/\"\n",
    "df_name = \"cellpose_run08.csv\"\n",
    "df.to_csv(df_path+df_name, index=False)"
   ]
  }
 ],
 "metadata": {
  "kernelspec": {
   "display_name": "dinov2_pip",
   "language": "python",
   "name": "dinov2_pip"
  },
  "language_info": {
   "codemirror_mode": {
    "name": "ipython",
    "version": 3
   },
   "file_extension": ".py",
   "mimetype": "text/x-python",
   "name": "python",
   "nbconvert_exporter": "python",
   "pygments_lexer": "ipython3",
   "version": "3.9.19"
  }
 },
 "nbformat": 4,
 "nbformat_minor": 2
}
