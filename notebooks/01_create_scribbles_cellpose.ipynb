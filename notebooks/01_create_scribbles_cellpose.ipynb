{
 "cells": [
  {
   "cell_type": "code",
   "execution_count": 1,
   "metadata": {},
   "outputs": [],
   "source": [
    "%load_ext autoreload\n",
    "%autoreload 2\n",
    "\n",
    "from PIL import Image\n",
    "import napari\n",
    "import numpy as np\n",
    "import os\n",
    "\n",
    "from scribbles_creator import *\n",
    "from scribbles_testing.cellpose_data_handler import *"
   ]
  },
  {
   "cell_type": "markdown",
   "metadata": {},
   "source": [
    "## Define where the images are located"
   ]
  },
  {
   "cell_type": "code",
   "execution_count": 2,
   "metadata": {},
   "outputs": [],
   "source": [
    "folder_path = \"../cellpose_train_imgs/\""
   ]
  },
  {
   "cell_type": "markdown",
   "metadata": {},
   "source": [
    "## Create ground truth for pixel classification from image mask (instance segmentation)"
   ]
  },
  {
   "cell_type": "code",
   "execution_count": null,
   "metadata": {},
   "outputs": [],
   "source": [
    "# for img_num in range(0, 540):\n",
    "#     create_cellpose_gt(folder_path, img_num, save_res=True, show_res=False)"
   ]
  },
  {
   "cell_type": "markdown",
   "metadata": {},
   "source": [
    "## Create scribble annotation from an image mask of the cell pose dataset"
   ]
  },
  {
   "cell_type": "markdown",
   "metadata": {},
   "source": [
    "Define scribbles parameters"
   ]
  },
  {
   "cell_type": "code",
   "execution_count": 27,
   "metadata": {},
   "outputs": [],
   "source": [
    "# Which scribbles to create\n",
    "mode = \"all\" # \"lines\" \"prim_sk\" \"sec_sk\"\n",
    "class_dist = \"balanced\" # 0.1 \"absolute\" \"relative\"\n",
    "rel_scribble_len = False #10 #100\n",
    "enforce_max_perc = True\n",
    "bins = [1] #[0.01, 0.025, 0.05, 0.1, 0.25, 0.5, 1, 2.5, 5, 10]\n",
    "scribble_width = 1\n",
    "# bin_width = [(0.01, 1), (0.025, 1), (0.05, 1), (0.1, 1),\n",
    "            #  (0.25, 2), (0.5, 2), (1, 2),\n",
    "            #  (2.5, 4), (5, 4), (10, 4)]\n",
    "margin = 0.75\n",
    "\n",
    "# all_suff = [\"a\", \"b\", \"c\", \"d\", \"e\", \"f\", \"g\", \"h\", \"i\", \"j\"]\n",
    "# suff = all_suff[:1]\n",
    "s = \"a\"\n",
    "scribbles_seed = 1\n",
    "\n",
    "# What to do\n",
    "save_res = False\n",
    "show_res = True\n",
    "print_steps = True"
   ]
  },
  {
   "cell_type": "markdown",
   "metadata": {},
   "source": [
    "Loop and create scribbles"
   ]
  },
  {
   "cell_type": "code",
   "execution_count": 28,
   "metadata": {},
   "outputs": [
    {
     "name": "stdout",
     "output_type": "stream",
     "text": [
      "IMG 0: 1, a\n",
      "\n",
      "max. perc.: 1, margin: 0.75, rel_scribble_len: 20.00, width: 1, mode: all, class_dist: balanced, enforce_max_perc: True, print_steps: True\n",
      "\n",
      "CLASS 1, max. pixel: 0.983% = 998 pixels\n",
      "   sk_max_pix: 332.00, sq_size: 22, sq_pix_range: (11, 44)\n",
      "      prim_sk_squares pix: 328 = 0.323%\n",
      "      sec_sk_squares pix: 330 = 0.325%\n",
      "   lines_max_pix: 332.00, line_pix_range: (11, 44)\n",
      "      lines pix: 327 = 0.322%\n",
      "CLASS 1 pixels: 983 = 0.968% \n",
      "\n",
      "CLASS 2, max. pixel: 1.019% = 962 pixels\n",
      "   sk_max_pix: 320.00, sq_size: 22, sq_pix_range: (11, 44)\n",
      "      prim_sk_squares pix: 311 = 0.329%\n",
      "      sec_sk_squares pix: 320 = 0.339%\n",
      "   lines_max_pix: 320.00, line_pix_range: (11, 44)\n",
      "      lines pix: 310 = 0.328%\n",
      "CLASS 2 pixels: 940 = 0.995% \n",
      "\n",
      "TOTAL annotation: 1923 = 0.981% \n",
      "\n",
      "\n",
      "\n",
      "IMG 300: 1, a\n",
      "\n",
      "max. perc.: 1, margin: 0.75, rel_scribble_len: 20.00, width: 1, mode: all, class_dist: balanced, enforce_max_perc: True, print_steps: True\n",
      "\n",
      "CLASS 1, max. pixel: 2.139% = 855 pixels\n",
      "   sk_max_pix: 285.00, sq_size: 25, sq_pix_range: (12, 50)\n",
      "      prim_sk_squares pix: 284 = 0.710%\n",
      "      sec_sk_squares pix: 282 = 0.705%\n",
      "   lines_max_pix: 285.00, line_pix_range: (12, 50)\n",
      "      lines pix: 276 = 0.690%\n",
      "CLASS 1 pixels: 839 = 2.098% \n",
      "\n",
      "CLASS 2, max. pixel: 0.795% = 1766 pixels\n",
      "   sk_max_pix: 588.00, sq_size: 25, sq_pix_range: (12, 50)\n",
      "      prim_sk_squares pix: 588 = 0.265%\n",
      "      sec_sk_squares pix: 580 = 0.261%\n",
      "   lines_max_pix: 588.00, line_pix_range: (12, 50)\n",
      "      lines pix: 582 = 0.262%\n",
      "CLASS 2 pixels: 1750 = 0.788% \n",
      "\n",
      "TOTAL annotation: 2589 = 0.988% \n",
      "\n",
      "\n",
      "\n"
     ]
    }
   ],
   "source": [
    "percentages = {}\n",
    "for bin in bins:\n",
    "# for bin, scribble_width in bin_width:\n",
    "    percentages[bin] = []\n",
    "    for img_num in range(0, 540, 300): #[200, 50, 272, 351, 493]:#, 383, 419]:#range(0, 10):\n",
    "        print(f\"IMG {img_num}: {bin}, {s}\")\n",
    "        np.random.seed(scribbles_seed)\n",
    "        scribbles, perc_labelled = create_cellpose_scribble(folder_path, img_num, bin=bin, margin=margin, rel_scribble_len=rel_scribble_len, scribble_width=scribble_width, mode=mode, \n",
    "                                                            class_dist=class_dist, enforce_max_perc=enforce_max_perc,\n",
    "                                                            save_res=save_res, suff=s, show_res=show_res, print_steps=print_steps)\n",
    "        percentages[bin].append(perc_labelled)\n",
    "        print(\"\\n\")"
   ]
  },
  {
   "cell_type": "markdown",
   "metadata": {},
   "source": [
    "Quick report of labelling percentages:"
   ]
  },
  {
   "cell_type": "code",
   "execution_count": null,
   "metadata": {},
   "outputs": [],
   "source": [
    "for bin, perc_list in percentages.items():\n",
    "    print(f\"labelled percentage in bin {bin}: mean = {np.mean(perc_list):.4f}, std = {np.std(perc_list):.4f}, range = {np.min(perc_list):.4f} - {np.max(perc_list):.4f}\")"
   ]
  },
  {
   "cell_type": "markdown",
   "metadata": {},
   "source": [
    "Check percentages of saved scribbles"
   ]
  },
  {
   "cell_type": "code",
   "execution_count": null,
   "metadata": {},
   "outputs": [],
   "source": [
    "perc_dict = {}\n",
    "for bin in bins:\n",
    "    bin_perc_list = []\n",
    "    for img_num in range(0,540,40):\n",
    "        scrib = np.array(Image.open(f\"{folder_path}{img_num:03d}_scribbles_{mode}_{bin_for_file(bin)}_{s}.png\"))\n",
    "        perc_labelled = np.sum(scrib > 0) / scrib.size\n",
    "        bin_perc_list.append(perc_labelled)\n",
    "    perc_dict[bin] = bin_perc_list"
   ]
  },
  {
   "cell_type": "markdown",
   "metadata": {},
   "source": [
    "Show the last created scribbles"
   ]
  },
  {
   "cell_type": "code",
   "execution_count": null,
   "metadata": {},
   "outputs": [],
   "source": [
    "img_data = get_cellpose_img_data(folder_path, img_num, load_img=True, load_gt=True, load_scribbles=True, mode=mode, bin=bin, scribble_width=scribble_width, suff=s)\n",
    "img = img_data[\"img\"]\n",
    "ground_truth = img_data[\"gt\"]"
   ]
  },
  {
   "cell_type": "code",
   "execution_count": null,
   "metadata": {},
   "outputs": [],
   "source": [
    "v = napari.Viewer()\n",
    "v.add_image(img)\n",
    "v.add_labels(ground_truth)\n",
    "v.add_labels(scribbles)"
   ]
  },
  {
   "cell_type": "markdown",
   "metadata": {},
   "source": [
    "## Load and show scribbles and ground truth from saved files"
   ]
  },
  {
   "cell_type": "code",
   "execution_count": null,
   "metadata": {},
   "outputs": [],
   "source": [
    "# Show the image, ground truth and the scribble annotation in a napari viewer\n",
    "img_num = 0\n",
    "mode = \"all\"\n",
    "bin = 0.1\n",
    "suff = \"a\"\n",
    "img_data = get_cellpose_img_data(folder_path, img_num, load_img=True, load_gt=True, load_scribbles=True, mode=mode, bin=bin, suff=suff)\n",
    "v = napari.Viewer()\n",
    "v.add_image(img_data[\"img\"], name=\"image\")\n",
    "v.add_labels(img_data[\"gt\"], name=\"ground truth\")\n",
    "v.add_labels(img_data[\"scribbles\"], name=\"scribbles\")"
   ]
  },
  {
   "cell_type": "markdown",
   "metadata": {},
   "source": [
    "## When we have performed segmentation in the Napari plugin, we can calculate its accuracy"
   ]
  },
  {
   "cell_type": "code",
   "execution_count": null,
   "metadata": {},
   "outputs": [],
   "source": [
    "# segmentation = v.layers['segmentation'].data\n",
    "# acc = np.round(100*np.sum(segmentation == ground_truth) / np.sum(ground_truth > 0), 2)\n",
    "# print(f\"Accuracy (pixels correctly segmented): {acc}%\")"
   ]
  }
 ],
 "metadata": {
  "kernelspec": {
   "display_name": "ilastik",
   "language": "python",
   "name": "python3"
  },
  "language_info": {
   "codemirror_mode": {
    "name": "ipython",
    "version": 3
   },
   "file_extension": ".py",
   "mimetype": "text/x-python",
   "name": "python",
   "nbconvert_exporter": "python",
   "pygments_lexer": "ipython3",
   "version": "3.9.19"
  }
 },
 "nbformat": 4,
 "nbformat_minor": 2
}
