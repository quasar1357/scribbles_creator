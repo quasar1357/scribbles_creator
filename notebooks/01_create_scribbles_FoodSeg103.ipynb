{
 "cells": [
  {
   "cell_type": "code",
   "execution_count": null,
   "metadata": {},
   "outputs": [],
   "source": [
    "%load_ext autoreload\n",
    "%autoreload 2\n",
    "\n",
    "import numpy as np\n",
    "import pandas as pd\n",
    "import napari\n",
    "from FoodSeg103_data_handler import *"
   ]
  },
  {
   "cell_type": "markdown",
   "metadata": {},
   "source": [
    "## Create scribbles"
   ]
  },
  {
   "cell_type": "markdown",
   "metadata": {},
   "source": [
    "Load the ground truths as batch"
   ]
  },
  {
   "cell_type": "code",
   "execution_count": null,
   "metadata": {},
   "outputs": [],
   "source": [
    "img_nums = [n for n in range(0, 4983, 8)] #[1382] #2750 #1234 #2314\n",
    "gts = load_food_batch(img_nums, load_images=False)[1]\n",
    "num_imgs = len(gts)\n",
    "print(f\"Total images: {num_imgs}\")"
   ]
  },
  {
   "cell_type": "markdown",
   "metadata": {},
   "source": [
    "Check and filter for resolution"
   ]
  },
  {
   "cell_type": "code",
   "execution_count": null,
   "metadata": {},
   "outputs": [],
   "source": [
    "resol = {im_num: np.prod(gt.shape) for im_num, gt in gts.items()}\n",
    "\n",
    "# Check for images with resolution over a certain threshold\n",
    "thresh = 640_000\n",
    "print(\"Resolutions:\")\n",
    "for im_num, r in resol.items(): print(f\"{im_num:4d}: {r:9,d} pixels{' (!)' if r > thresh else ''}\")"
   ]
  },
  {
   "cell_type": "code",
   "execution_count": null,
   "metadata": {},
   "outputs": [],
   "source": [
    "# Filter out those images\n",
    "gts_new = {im_num: gt for im_num, gt in gts.items() if resol[im_num] <= thresh}\n",
    "num_imgs = len(gts_new)\n",
    "print(f\"Images with resolution under {thresh:,d}: {num_imgs}\")\n",
    "resol_new = {im_num: np.prod(gt.shape) for im_num, gt in gts_new.items()}\n",
    "for im_num, r in resol_new.items(): print(f\"{im_num:4d}: {r:7,d} pixels\")\n",
    "gts = gts_new"
   ]
  },
  {
   "cell_type": "markdown",
   "metadata": {},
   "source": [
    "Define scribbles parameters"
   ]
  },
  {
   "cell_type": "code",
   "execution_count": null,
   "metadata": {},
   "outputs": [],
   "source": [
    "# Which scribbles to create\n",
    "mode = \"all\"\n",
    "class_dist = \"balanced\"\n",
    "enforce_max_perc = True\n",
    "# bin_width = [(0.05, 1), (0.1, 1),\n",
    "            #  (0.25, 2), (0.5, 2), (1, 2),\n",
    "            #  (2.5, 3), (5, 3),\n",
    "            #  (10, 4)]\n",
    "bins = [2.5]#[0.01, 0.025, 0.05, 0.1, 0.25, 0.5, 1, 2.5, 5, 10] #[0.01, 0.03, 0.1, 0.3, 1, 3, 10]#[0.05, 0.25, 1, 5]\n",
    "margin = 0.75\n",
    "scribble_width = 2\n",
    "# suff = [\"TEST\"] #[\"w3\"] #standing for width 3\n",
    "s = \"TEST\"\n",
    "rel_scribble_len = 10\n",
    "scribbles_seed = 1\n",
    "\n",
    "# Where to save the scribbles\n",
    "folder_path = \"./FoodSeg103_results/data/food_run02\"\n",
    "\n",
    "# What to do\n",
    "save_res = False\n",
    "show_res = False\n",
    "print_steps = True"
   ]
  },
  {
   "cell_type": "markdown",
   "metadata": {},
   "source": [
    "Loop and create scribbles"
   ]
  },
  {
   "cell_type": "code",
   "execution_count": null,
   "metadata": {},
   "outputs": [],
   "source": [
    "percentages = {}\n",
    "for bin in bins:\n",
    "# for bin, scribble_width in bin_width:\n",
    "    percentages[bin] = []\n",
    "    for img_num, gt in gts.items():\n",
    "        print(f\"IMG {img_num}: bin {bin}, suff {s}\")\n",
    "        np.random.seed(scribbles_seed)\n",
    "        scribbles, perc_labelled = create_food_scribble(gt, folder_path, img_num, bin=bin, margin=margin, rel_scribble_len=rel_scribble_len, scribble_width=scribble_width, mode=mode,\n",
    "                                                        class_dist=class_dist, enforce_max_perc=enforce_max_perc,\n",
    "                                                        save_res=save_res, suff=s, show_res=show_res, image=None, print_steps=print_steps)\n",
    "        percentages[bin].append(perc_labelled)\n",
    "        print(\"\\n\")"
   ]
  },
  {
   "cell_type": "markdown",
   "metadata": {},
   "source": [
    "Quick report of labelling percentages:"
   ]
  },
  {
   "cell_type": "code",
   "execution_count": null,
   "metadata": {},
   "outputs": [],
   "source": [
    "for bin, perc_list in percentages.items():\n",
    "    print(f\"labelled percentage in bin {bin}: mean = {np.mean(perc_list):.4f}, std = {np.std(perc_list):.4f}, range = {np.min(perc_list):.4f} - {np.max(perc_list):.4f}\")"
   ]
  },
  {
   "cell_type": "markdown",
   "metadata": {},
   "source": [
    "Check percentages of saved scribbles"
   ]
  },
  {
   "cell_type": "code",
   "execution_count": null,
   "metadata": {},
   "outputs": [],
   "source": [
    "perc_dict = {}\n",
    "for bin in bins:\n",
    "    bin_perc_list = []\n",
    "    for img_num in range(0,540,20):\n",
    "        scrib = np.array(Image.open(f\"{folder_path}{img_num:03d}_scribbles_{mode}_{bin_for_file(bin)}_{s}.png\"))\n",
    "        perc_labelled = np.sum(scrib > 0) / scrib.size\n",
    "        bin_perc_list.append(perc_labelled)\n",
    "    perc_dict[bin] = bin_perc_list"
   ]
  },
  {
   "cell_type": "markdown",
   "metadata": {},
   "source": [
    "Show the last created scribble with its own ground truth, and (optionally) all other ground truths"
   ]
  },
  {
   "cell_type": "code",
   "execution_count": null,
   "metadata": {},
   "outputs": [],
   "source": [
    "v = napari.Viewer()\n",
    "v.add_labels(gt, name=\"Ground Truth\")\n",
    "v.add_labels(scribbles, name=\"Scribbles\")"
   ]
  },
  {
   "cell_type": "code",
   "execution_count": null,
   "metadata": {},
   "outputs": [],
   "source": [
    "for g in gts:\n",
    "    v.add_labels(gts[g], name=f\"GT {g}\")"
   ]
  }
 ],
 "metadata": {
  "kernelspec": {
   "display_name": "ilastik2",
   "language": "python",
   "name": "python3"
  },
  "language_info": {
   "codemirror_mode": {
    "name": "ipython",
    "version": 3
   },
   "file_extension": ".py",
   "mimetype": "text/x-python",
   "name": "python",
   "nbconvert_exporter": "python",
   "pygments_lexer": "ipython3",
   "version": "3.9.18"
  }
 },
 "nbformat": 4,
 "nbformat_minor": 2
}
