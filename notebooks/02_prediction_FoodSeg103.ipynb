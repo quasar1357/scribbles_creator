{
 "cells": [
  {
   "cell_type": "code",
   "execution_count": 2,
   "metadata": {},
   "outputs": [
    {
     "name": "stderr",
     "output_type": "stream",
     "text": [
      "c:\\Users\\roman\\anaconda3\\envs\\ilastik\\lib\\site-packages\\tqdm\\auto.py:21: TqdmWarning: IProgress not found. Please update jupyter and ipywidgets. See https://ipywidgets.readthedocs.io/en/stable/user_install.html\n",
      "  from .autonotebook import tqdm as notebook_tqdm\n"
     ]
    }
   ],
   "source": [
    "%load_ext autoreload\n",
    "%autoreload 2\n",
    "\n",
    "import numpy as np\n",
    "import napari\n",
    "from FoodSeg103_data_handler import *"
   ]
  },
  {
   "cell_type": "markdown",
   "metadata": {},
   "source": [
    "## Prediction"
   ]
  },
  {
   "cell_type": "markdown",
   "metadata": {},
   "source": [
    "Load the images as batches"
   ]
  },
  {
   "cell_type": "code",
   "execution_count": 3,
   "metadata": {},
   "outputs": [
    {
     "name": "stdout",
     "output_type": "stream",
     "text": [
      "Total images: 1\n"
     ]
    }
   ],
   "source": [
    "img_nums = [1328]#[n for n in range(0, 4500, 1000)] #2750 #1234 #2314\n",
    "imgs = load_food_batch(img_nums, load_gts=False)[0]\n",
    "num_imgs = len(imgs)\n",
    "print(f\"Total images: {num_imgs}\")"
   ]
  },
  {
   "cell_type": "markdown",
   "metadata": {},
   "source": [
    "Check and filter for resolution"
   ]
  },
  {
   "cell_type": "code",
   "execution_count": 22,
   "metadata": {},
   "outputs": [
    {
     "name": "stdout",
     "output_type": "stream",
     "text": [
      "Resolutions:\n",
      "   0:   196,608 pixels\n",
      "1000:   196,608 pixels\n",
      "2000:   172,544 pixels\n",
      "3000:   174,080 pixels\n",
      "4000:   196,608 pixels\n"
     ]
    }
   ],
   "source": [
    "resol = {im_num: np.prod(im.shape[:2]) for im_num, im in imgs.items()}\n",
    "\n",
    "# Check for images with resolution over a certain threshold\n",
    "thresh = 640_000\n",
    "print(\"Resolutions:\")\n",
    "for im_num, r in resol.items(): print(f\"{im_num:4d}: {r:9,d} pixels{' (!)' if r > thresh else ''}\")"
   ]
  },
  {
   "cell_type": "code",
   "execution_count": 23,
   "metadata": {},
   "outputs": [
    {
     "name": "stdout",
     "output_type": "stream",
     "text": [
      "Images with resolution under 640,000: 5\n",
      "   0: 196,608 pixels\n",
      "1000: 196,608 pixels\n",
      "2000: 172,544 pixels\n",
      "3000: 174,080 pixels\n",
      "4000: 196,608 pixels\n"
     ]
    }
   ],
   "source": [
    "# Filter out those images\n",
    "imgs = {im_num: im for im_num, im in imgs.items() if resol[im_num] <= thresh}\n",
    "num_imgs = len(imgs)\n",
    "print(f\"Images with resolution under {thresh:,d}: {num_imgs}\")\n",
    "resol_new = {im_num: np.prod(im.shape[:2]) for im_num, im in imgs.items()}\n",
    "for im_num, r in resol_new.items(): print(f\"{im_num:4d}: {r:7,d} pixels\")"
   ]
  },
  {
   "cell_type": "code",
   "execution_count": 4,
   "metadata": {},
   "outputs": [],
   "source": [
    "# Where to find and save the data\n",
    "folder_path = \"./FoodSeg103_results/data/food_run06a_examples\"\n",
    "\n",
    "# Which scribbles to use\n",
    "mode = \"all\"\n",
    "bins = [0.1] #[0.05, 0.3, 1.5]\n",
    "scribble_width = 2\n",
    "# suff = [\"TEST\"]\n",
    "s = \"run06\"\n",
    "\n",
    "# Which prediction models to use\n",
    "convpaint_layers = [[0], [0,2], [0,2,5]]\n",
    "convpaint_scalings = [[1], [1,2], [1,2,4], [1,2,4,8]]\n",
    "model = \"vgg16\" # 'vgg16', 'efficient_netb0', 'single_layer_vgg16', 'single_layer_vgg16_rgb', 'dino_vits16'\n",
    "use_dino = True\n",
    "use_ilastik = True\n",
    "pred_seed = 123\n",
    "\n",
    "save_res = False\n",
    "show_res = True"
   ]
  },
  {
   "cell_type": "markdown",
   "metadata": {},
   "source": [
    "Loop and predict"
   ]
  },
  {
   "cell_type": "code",
   "execution_count": 18,
   "metadata": {},
   "outputs": [
    {
     "name": "stdout",
     "output_type": "stream",
     "text": [
      "IMG 1328: bin 0.1, suff run06\n",
      "   ConvPaint: layers [0], scalings [1]\n"
     ]
    },
    {
     "name": "stderr",
     "output_type": "stream",
     "text": [
      "WARNING: QWindowsWindow::setGeometry: Unable to set geometry 3258x1965+3159+51 (frame: 3290x2053+3143-21) on QWidgetWindow/\"_QtMainWindowClassWindow\" on \"\\\\.\\DISPLAY1\". Resulting geometry: 5764x2528+3167+92 (frame: 5796x2616+3151+20) margins: 16, 72, 16, 16 minimum size: 385x494 MINMAXINFO maxSize=0,0 maxpos=0,0 mintrack=1187,1570 maxtrack=0,0)\n"
     ]
    },
    {
     "name": "stdout",
     "output_type": "stream",
     "text": [
      "\n",
      "\n"
     ]
    }
   ],
   "source": [
    "for bin in bins:\n",
    "    for img_num, img in imgs.items():\n",
    "        print(f\"IMG {img_num}: bin {bin}, suff {s}\")\n",
    "        for layers in [[0]]:#convpaint_layers:\n",
    "            for scalings in [[1]]:#convpaint_scalings:\n",
    "                print(f\"   ConvPaint: layers {layers}, scalings {scalings}\")\n",
    "                pred_conv = pred_food_convpaint(img, folder_path, img_num, mode=mode, bin=bin, scribble_width=scribble_width, suff=s, \n",
    "                                                layer_list=layers, scalings=scalings, model=model, random_state=12,\n",
    "                                                save_res=save_res, show_res=show_res, ground_truth=None)\n",
    "        if use_ilastik:\n",
    "            print(\"   Ilastik\")\n",
    "            pred_ila = pred_food_ilastik(img, folder_path, img_num, mode=mode, bin=bin, scribble_width=scribble_width, suff=s,\n",
    "                                         random_state=pred_seed,\n",
    "                                         save_res=save_res, show_res=show_res, ground_truth=None)\n",
    "        if use_dino:\n",
    "            print(\"   DINO\")\n",
    "            pred_dino = pred_food_dino(img, folder_path, img_num, mode=mode, bin=bin, scribble_width=scribble_width, suff=s, \n",
    "                                            dinov2_model='s', upscale_order=0, random_state=pred_seed,\n",
    "                                            save_res=save_res, show_res=show_res, ground_truth=None)\n",
    "        print(\"\\n\")"
   ]
  },
  {
   "cell_type": "markdown",
   "metadata": {},
   "source": [
    "Show the last predictions (optionally with image, ground truth and scribbles)"
   ]
  },
  {
   "cell_type": "code",
   "execution_count": null,
   "metadata": {},
   "outputs": [],
   "source": [
    "ground_truth = load_food_data(img_num, load_image=False)[1]\n",
    "scribbles = get_food_img_data(folder_path, img_num, load_scribbles=True, mode=mode, bin=bin, scribble_width=scribble_width, suff=s)[\"scribbles\"]"
   ]
  },
  {
   "cell_type": "code",
   "execution_count": null,
   "metadata": {},
   "outputs": [],
   "source": [
    "print(f\"Ilastik:   {np.sum(pred_ila == ground_truth) / np.prod(pred_ila.shape) * 100:.2f}%\")\n",
    "print(f\"Convpaint: {np.sum(pred_conv == ground_truth) / np.prod(pred_conv.shape) * 100:.2f}%\")\n",
    "print(f\"DINOv2:    {np.sum(pred_dino == ground_truth) / np.prod(pred_dino.shape) * 100:.2f}%\")"
   ]
  },
  {
   "cell_type": "code",
   "execution_count": null,
   "metadata": {},
   "outputs": [],
   "source": [
    "v = napari.Viewer()\n",
    "v.add_image(img)\n",
    "v.add_labels(ground_truth)\n",
    "v.add_labels(scribbles)\n",
    "v.add_labels(pred_conv)\n",
    "v.add_labels(pred_ila)\n",
    "v.add_labels(pred_dino)"
   ]
  }
 ],
 "metadata": {
  "kernelspec": {
   "display_name": "ilastik2",
   "language": "python",
   "name": "python3"
  },
  "language_info": {
   "codemirror_mode": {
    "name": "ipython",
    "version": 3
   },
   "file_extension": ".py",
   "mimetype": "text/x-python",
   "name": "python",
   "nbconvert_exporter": "python",
   "pygments_lexer": "ipython3",
   "version": "3.9.18"
  }
 },
 "nbformat": 4,
 "nbformat_minor": 2
}
